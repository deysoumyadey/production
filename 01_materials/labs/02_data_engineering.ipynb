{
 "cells": [
  {
   "cell_type": "code",
   "execution_count": 1,
   "metadata": {},
   "outputs": [],
   "source": [
    "%load_ext dotenv\n",
    "%dotenv "
   ]
  },
  {
   "cell_type": "markdown",
   "metadata": {},
   "source": [
    "# What are we doing?\n",
    "\n",
    "## Objectives \n",
    "\n",
    "\n",
    "* Build a data pipeline that downloads price data from the internet, stores it locally, transforms it into return data, and stores the feature set.\n",
    "    - Getting the data.\n",
    "    - Schemas and index in dask.\n",
    "\n",
    "* Explore the parquet format.\n",
    "    - Reading and writing parquet files.\n",
    "    - Read datasets that are stored in distributed files.\n",
    "    - Discuss dask vs pandas as a small example of big vs small data.\n",
    "    \n",
    "* Discuss the use of environment variables for settings.\n",
    "* Discuss how to use Jupyter notebooks and source code concurrently. \n",
    "* Logging and using a standard logger.\n",
    "\n",
    "## About the Data\n",
    "\n",
    "+ We will download the prices for a list of stocks.\n",
    "+ The source is Yahoo Finance and we will use the API provided by the library yfinance.\n",
    "\n",
    "\n",
    "## Medallion Architecture\n",
    "\n",
    "+ The architecture that we are thinking about is called Medallion by [DataBricks](https://www.databricks.com/glossary/medallion-architecture). It is an ELT type of thinking, although our data is well-structured.\n",
    "\n",
    "![Medallion Architecture (DataBicks)](./images/02_medallion_architecture.png)\n",
    "\n",
    "+ In our case, we would like to optimize the number of times that we download data from the internet. \n",
    "+ Ultimately, we will build a pipeline manager class that will help us control the process of obtaining and transforming our data.\n",
    "\n",
    "![](./images/02_target_pipeline_manager.png)"
   ]
  },
  {
   "cell_type": "markdown",
   "metadata": {},
   "source": [
    "# Download Data\n",
    "\n",
    "Download the [Stock Market Dataset from Kaggle](https://www.kaggle.com/datasets/jacksoncrow/stock-market-dataset). Note that you may be required to register for a free account.\n",
    "\n",
    "Extract all files into the directory: `./05_src/data/prices_csv/`\n",
    "\n",
    "Your folder structure should include the following paths:\n",
    "\n",
    "+ `05_src/data/prices_csv/etfs`\n",
    "+ `05_src/data/prices_csv/stocks`\n"
   ]
  },
  {
   "cell_type": "code",
   "execution_count": 2,
   "metadata": {},
   "outputs": [],
   "source": [
    "import pandas as pd\n",
    "import os\n",
    "import sys\n",
    "from glob import glob\n",
    "\n",
    "sys.path.append(os.getenv('SRC_DIR'))\n",
    "\n",
    "from utils.logger import get_logger\n",
    "_logs = get_logger(__name__)"
   ]
  },
  {
   "cell_type": "markdown",
   "metadata": {},
   "source": [
    "A few things to notice in the code chunk above:\n",
    "\n",
    "+ Libraries are ordered from high-level to low-level libraries from the package manager (pip in this case, but could be conda, poetry, etc.)\n",
    "+ The command `sys.path.append(\"../05_src/)` will add the `../05_src/` directory to the path in the Notebook's kernel. This way, we can use our modules as part of the notebook.\n",
    "+ Local modules are imported at the end. \n",
    "+ The function `get_logger()` is called with `__name__` as recommended by the documentation."
   ]
  },
  {
   "cell_type": "markdown",
   "metadata": {},
   "source": [
    "Now, to load the historical price data for stocks and ETFs, we could use:"
   ]
  },
  {
   "cell_type": "code",
   "execution_count": 3,
   "metadata": {},
   "outputs": [
    {
     "name": "stderr",
     "output_type": "stream",
     "text": [
      "2025-06-03 19:54:22,727, 4121356139.py, 10, INFO, Reading file: ../../05_src/data/prices_csv/stocks\\TNC.csv\n",
      "2025-06-03 19:54:22,928, 4121356139.py, 10, INFO, Reading file: ../../05_src/data/prices_csv/stocks\\CBB.csv\n",
      "2025-06-03 19:54:22,999, 4121356139.py, 10, INFO, Reading file: ../../05_src/data/prices_csv/stocks\\ALDX.csv\n",
      "2025-06-03 19:54:23,048, 4121356139.py, 10, INFO, Reading file: ../../05_src/data/prices_csv/stocks\\GLADD.csv\n",
      "2025-06-03 19:54:23,077, 4121356139.py, 10, INFO, Reading file: ../../05_src/data/prices_csv/stocks\\FIXX.csv\n",
      "2025-06-03 19:54:23,120, 4121356139.py, 10, INFO, Reading file: ../../05_src/data/prices_csv/stocks\\ETJ.csv\n",
      "2025-06-03 19:54:23,157, 4121356139.py, 10, INFO, Reading file: ../../05_src/data/prices_csv/stocks\\CMCTP.csv\n",
      "2025-06-03 19:54:23,197, 4121356139.py, 10, INFO, Reading file: ../../05_src/data/prices_csv/stocks\\BWG.csv\n",
      "2025-06-03 19:54:23,230, 4121356139.py, 10, INFO, Reading file: ../../05_src/data/prices_csv/stocks\\VIAC.csv\n",
      "2025-06-03 19:54:23,280, 4121356139.py, 10, INFO, Reading file: ../../05_src/data/prices_csv/stocks\\REI.csv\n",
      "2025-06-03 19:54:23,334, 4121356139.py, 10, INFO, Reading file: ../../05_src/data/prices_csv/stocks\\BLPH.csv\n",
      "2025-06-03 19:54:23,358, 4121356139.py, 10, INFO, Reading file: ../../05_src/data/prices_csv/stocks\\SMG.csv\n",
      "2025-06-03 19:54:23,414, 4121356139.py, 10, INFO, Reading file: ../../05_src/data/prices_csv/stocks\\MOH.csv\n",
      "2025-06-03 19:54:23,465, 4121356139.py, 10, INFO, Reading file: ../../05_src/data/prices_csv/stocks\\AMH.csv\n",
      "2025-06-03 19:54:23,512, 4121356139.py, 10, INFO, Reading file: ../../05_src/data/prices_csv/stocks\\AMAL.csv\n",
      "2025-06-03 19:54:23,528, 4121356139.py, 10, INFO, Reading file: ../../05_src/data/prices_csv/stocks\\BPYPN.csv\n",
      "2025-06-03 19:54:23,557, 4121356139.py, 10, INFO, Reading file: ../../05_src/data/prices_csv/stocks\\ERH.csv\n",
      "2025-06-03 19:54:23,607, 4121356139.py, 10, INFO, Reading file: ../../05_src/data/prices_csv/stocks\\FAMI.csv\n",
      "2025-06-03 19:54:23,643, 4121356139.py, 10, INFO, Reading file: ../../05_src/data/prices_csv/stocks\\PFG.csv\n",
      "2025-06-03 19:54:23,695, 4121356139.py, 10, INFO, Reading file: ../../05_src/data/prices_csv/stocks\\SPXC.csv\n",
      "2025-06-03 19:54:23,754, 4121356139.py, 10, INFO, Reading file: ../../05_src/data/prices_csv/stocks\\ALL.csv\n",
      "2025-06-03 19:54:23,800, 4121356139.py, 10, INFO, Reading file: ../../05_src/data/prices_csv/stocks\\RTTR.csv\n",
      "2025-06-03 19:54:23,843, 4121356139.py, 10, INFO, Reading file: ../../05_src/data/prices_csv/stocks\\EARN.csv\n",
      "2025-06-03 19:54:23,875, 4121356139.py, 10, INFO, Reading file: ../../05_src/data/prices_csv/stocks\\ZIXI.csv\n",
      "2025-06-03 19:54:23,929, 4121356139.py, 10, INFO, Reading file: ../../05_src/data/prices_csv/stocks\\TSN.csv\n",
      "2025-06-03 19:54:23,990, 4121356139.py, 10, INFO, Reading file: ../../05_src/data/prices_csv/stocks\\WST.csv\n",
      "2025-06-03 19:54:24,033, 4121356139.py, 10, INFO, Reading file: ../../05_src/data/prices_csv/stocks\\REG.csv\n",
      "2025-06-03 19:54:24,080, 4121356139.py, 10, INFO, Reading file: ../../05_src/data/prices_csv/stocks\\MNK.csv\n",
      "2025-06-03 19:54:24,124, 4121356139.py, 10, INFO, Reading file: ../../05_src/data/prices_csv/stocks\\ESGR.csv\n",
      "2025-06-03 19:54:24,180, 4121356139.py, 10, INFO, Reading file: ../../05_src/data/prices_csv/stocks\\NGD.csv\n",
      "2025-06-03 19:54:24,228, 4121356139.py, 10, INFO, Reading file: ../../05_src/data/prices_csv/stocks\\SLRX.csv\n",
      "2025-06-03 19:54:24,268, 4121356139.py, 10, INFO, Reading file: ../../05_src/data/prices_csv/stocks\\GLW.csv\n",
      "2025-06-03 19:54:24,347, 4121356139.py, 10, INFO, Reading file: ../../05_src/data/prices_csv/stocks\\ACN.csv\n",
      "2025-06-03 19:54:24,414, 4121356139.py, 10, INFO, Reading file: ../../05_src/data/prices_csv/stocks\\CSSE.csv\n",
      "2025-06-03 19:54:24,458, 4121356139.py, 10, INFO, Reading file: ../../05_src/data/prices_csv/stocks\\WORK.csv\n",
      "2025-06-03 19:54:24,491, 4121356139.py, 10, INFO, Reading file: ../../05_src/data/prices_csv/stocks\\MOS.csv\n",
      "2025-06-03 19:54:24,551, 4121356139.py, 10, INFO, Reading file: ../../05_src/data/prices_csv/stocks\\IPWR.csv\n",
      "2025-06-03 19:54:24,591, 4121356139.py, 10, INFO, Reading file: ../../05_src/data/prices_csv/stocks\\GLUU.csv\n",
      "2025-06-03 19:54:24,624, 4121356139.py, 10, INFO, Reading file: ../../05_src/data/prices_csv/stocks\\CRMT.csv\n",
      "2025-06-03 19:54:24,671, 4121356139.py, 10, INFO, Reading file: ../../05_src/data/prices_csv/stocks\\EOLS.csv\n",
      "2025-06-03 19:54:24,724, 4121356139.py, 10, INFO, Reading file: ../../05_src/data/prices_csv/stocks\\INSU.csv\n",
      "2025-06-03 19:54:24,744, 4121356139.py, 10, INFO, Reading file: ../../05_src/data/prices_csv/stocks\\BWEN.csv\n",
      "2025-06-03 19:54:24,784, 4121356139.py, 10, INFO, Reading file: ../../05_src/data/prices_csv/stocks\\BPMX.csv\n",
      "2025-06-03 19:54:24,836, 4121356139.py, 10, INFO, Reading file: ../../05_src/data/prices_csv/stocks\\LH.csv\n",
      "2025-06-03 19:54:24,921, 4121356139.py, 10, INFO, Reading file: ../../05_src/data/prices_csv/stocks\\BRQS.csv\n",
      "2025-06-03 19:54:24,976, 4121356139.py, 10, INFO, Reading file: ../../05_src/data/prices_csv/stocks\\KALU.csv\n",
      "2025-06-03 19:54:25,080, 4121356139.py, 10, INFO, Reading file: ../../05_src/data/prices_csv/stocks\\ITCB.csv\n",
      "2025-06-03 19:54:25,137, 4121356139.py, 10, INFO, Reading file: ../../05_src/data/prices_csv/stocks\\SRE.csv\n",
      "2025-06-03 19:54:25,193, 4121356139.py, 10, INFO, Reading file: ../../05_src/data/prices_csv/stocks\\GAZ.csv\n",
      "2025-06-03 19:54:25,233, 4121356139.py, 10, INFO, Reading file: ../../05_src/data/prices_csv/stocks\\AQMS.csv\n",
      "2025-06-03 19:54:25,266, 4121356139.py, 10, INFO, Reading file: ../../05_src/data/prices_csv/stocks\\NPK.csv\n",
      "2025-06-03 19:54:25,313, 4121356139.py, 10, INFO, Reading file: ../../05_src/data/prices_csv/stocks\\QRHC.csv\n",
      "2025-06-03 19:54:25,359, 4121356139.py, 10, INFO, Reading file: ../../05_src/data/prices_csv/stocks\\CGEN.csv\n",
      "2025-06-03 19:54:25,412, 4121356139.py, 10, INFO, Reading file: ../../05_src/data/prices_csv/stocks\\LEVL.csv\n",
      "2025-06-03 19:54:25,444, 4121356139.py, 10, INFO, Reading file: ../../05_src/data/prices_csv/stocks\\BGS.csv\n",
      "2025-06-03 19:54:25,496, 4121356139.py, 10, INFO, Reading file: ../../05_src/data/prices_csv/stocks\\RIV.csv\n",
      "2025-06-03 19:54:25,521, 4121356139.py, 10, INFO, Reading file: ../../05_src/data/prices_csv/stocks\\GURE.csv\n",
      "2025-06-03 19:54:25,582, 4121356139.py, 10, INFO, Reading file: ../../05_src/data/prices_csv/stocks\\TEF.csv\n",
      "2025-06-03 19:54:25,654, 4121356139.py, 10, INFO, Reading file: ../../05_src/data/prices_csv/stocks\\SYNH.csv\n",
      "2025-06-03 19:54:25,689, 4121356139.py, 10, INFO, Reading file: ../../05_src/data/prices_csv/stocks\\KEY.csv\n"
     ]
    }
   ],
   "source": [
    "import random\n",
    "\n",
    "stock_files = glob(os.path.join(os.getenv('SRC_DIR'), \"data/prices_csv/stocks/*.csv\"))\n",
    "\n",
    "random.seed(42)\n",
    "stock_files = random.sample(stock_files, 60)\n",
    "\n",
    "dt_list = []\n",
    "for s_file in stock_files:\n",
    "    _logs.info(f\"Reading file: {s_file}\")\n",
    "    dt = pd.read_csv(s_file).assign(\n",
    "        source = os.path.basename(s_file),\n",
    "        ticker = os.path.basename(s_file).replace('.csv', ''),\n",
    "        Date = lambda x: pd.to_datetime(x['Date'])\n",
    "    )\n",
    "    dt_list.append(dt)\n",
    "stock_prices = pd.concat(dt_list, axis = 0, ignore_index = True)\n",
    "\n"
   ]
  },
  {
   "cell_type": "markdown",
   "metadata": {},
   "source": [
    "Verify the structure of the `stock_prices` data:"
   ]
  },
  {
   "cell_type": "code",
   "execution_count": 4,
   "metadata": {},
   "outputs": [
    {
     "name": "stdout",
     "output_type": "stream",
     "text": [
      "<class 'pandas.core.frame.DataFrame'>\n",
      "RangeIndex: 239659 entries, 0 to 239658\n",
      "Data columns (total 9 columns):\n",
      " #   Column     Non-Null Count   Dtype         \n",
      "---  ------     --------------   -----         \n",
      " 0   Date       239659 non-null  datetime64[ns]\n",
      " 1   Open       239656 non-null  float64       \n",
      " 2   High       239656 non-null  float64       \n",
      " 3   Low        239656 non-null  float64       \n",
      " 4   Close      239656 non-null  float64       \n",
      " 5   Adj Close  239656 non-null  float64       \n",
      " 6   Volume     239656 non-null  float64       \n",
      " 7   source     239659 non-null  object        \n",
      " 8   ticker     239659 non-null  object        \n",
      "dtypes: datetime64[ns](1), float64(6), object(2)\n",
      "memory usage: 16.5+ MB\n"
     ]
    }
   ],
   "source": [
    "stock_prices.info()"
   ]
  },
  {
   "cell_type": "markdown",
   "metadata": {},
   "source": [
    "We can subset our ticker data set using standard indexing techniques. A good reference for this type of data manipulation is Panda's [Documentation](https://pandas.pydata.org/docs/user_guide/indexing.html#indexing-and-selecting-data) and [Cookbook](https://pandas.pydata.org/docs/user_guide/cookbook.html#cookbook-selection)."
   ]
  },
  {
   "cell_type": "markdown",
   "metadata": {},
   "source": [
    "From the subset data frame, select one column and convert to list."
   ]
  },
  {
   "cell_type": "code",
   "execution_count": 5,
   "metadata": {},
   "outputs": [
    {
     "data": {
      "text/plain": [
       "['TNC',\n",
       " 'CBB',\n",
       " 'ALDX',\n",
       " 'GLADD',\n",
       " 'FIXX',\n",
       " 'ETJ',\n",
       " 'CMCTP',\n",
       " 'BWG',\n",
       " 'VIAC',\n",
       " 'REI',\n",
       " 'BLPH',\n",
       " 'SMG',\n",
       " 'MOH',\n",
       " 'AMH',\n",
       " 'AMAL',\n",
       " 'BPYPN',\n",
       " 'ERH',\n",
       " 'FAMI',\n",
       " 'PFG',\n",
       " 'SPXC',\n",
       " 'ALL',\n",
       " 'RTTR',\n",
       " 'EARN',\n",
       " 'ZIXI',\n",
       " 'TSN',\n",
       " 'WST',\n",
       " 'REG',\n",
       " 'MNK',\n",
       " 'ESGR',\n",
       " 'NGD',\n",
       " 'SLRX',\n",
       " 'GLW',\n",
       " 'ACN',\n",
       " 'CSSE',\n",
       " 'WORK',\n",
       " 'MOS',\n",
       " 'IPWR',\n",
       " 'GLUU',\n",
       " 'CRMT',\n",
       " 'EOLS',\n",
       " 'INSU',\n",
       " 'BWEN',\n",
       " 'BPMX',\n",
       " 'LH',\n",
       " 'BRQS',\n",
       " 'KALU',\n",
       " 'ITCB',\n",
       " 'SRE',\n",
       " 'GAZ',\n",
       " 'AQMS',\n",
       " 'NPK',\n",
       " 'QRHC',\n",
       " 'CGEN',\n",
       " 'LEVL',\n",
       " 'BGS',\n",
       " 'RIV',\n",
       " 'GURE',\n",
       " 'TEF',\n",
       " 'SYNH',\n",
       " 'KEY']"
      ]
     },
     "execution_count": 5,
     "metadata": {},
     "output_type": "execute_result"
    }
   ],
   "source": [
    "select_tickers = stock_prices['ticker'].unique().tolist()\n",
    "select_tickers"
   ]
  },
  {
   "cell_type": "markdown",
   "metadata": {},
   "source": [
    "# Storing Data in CSV\n",
    "\n"
   ]
  },
  {
   "cell_type": "markdown",
   "metadata": {},
   "source": [
    "+ We have some data. How do we store it?\n",
    "+ We can compare two options, CSV and Parqruet, by measuring their performance:\n",
    "\n",
    "    - Time to save.\n",
    "    - Space required."
   ]
  },
  {
   "cell_type": "code",
   "execution_count": 6,
   "metadata": {},
   "outputs": [],
   "source": [
    "def get_dir_size(path='.'):\n",
    "    '''Returns the total size of files contained in path.'''\n",
    "    total = 0\n",
    "    with os.scandir(path) as it:\n",
    "        for entry in it:\n",
    "            if entry.is_file():\n",
    "                total += entry.stat().st_size\n",
    "            elif entry.is_dir():\n",
    "                total += get_dir_size(entry.path)\n",
    "    return total"
   ]
  },
  {
   "cell_type": "code",
   "execution_count": 7,
   "metadata": {},
   "outputs": [],
   "source": [
    "import time\n",
    "import shutil"
   ]
  },
  {
   "cell_type": "code",
   "execution_count": 8,
   "metadata": {},
   "outputs": [],
   "source": [
    "temp = os.getenv(\"TEMP_DATA\")\n",
    "csv_dir = os.path.join(temp, \"csv\")\n",
    "shutil.rmtree(csv_dir, ignore_errors=True)\n",
    "stock_csv = os.path.join(csv_dir, \"stock_px.csv\")\n",
    "os.makedirs(csv_dir, exist_ok=True)"
   ]
  },
  {
   "cell_type": "code",
   "execution_count": 9,
   "metadata": {},
   "outputs": [
    {
     "name": "stderr",
     "output_type": "stream",
     "text": [
      "2025-06-03 19:54:30,064, 473192941.py, 5, INFO, Writing data ((239659, 9)) to csv took 3.861302137374878 seconds.\n",
      "2025-06-03 19:54:30,066, 473192941.py, 6, INFO, CSV file size 26.618403999999998 MB\n"
     ]
    }
   ],
   "source": [
    "\n",
    "start = time.time()\n",
    "stock_prices.to_csv(stock_csv, index = False)\n",
    "end = time.time()\n",
    "\n",
    "_logs.info(f'Writing data ({stock_prices.shape}) to csv took {end - start} seconds.')\n",
    "_logs.info(f'CSV file size { os.path.getsize(stock_csv)*1e-6 } MB')"
   ]
  },
  {
   "cell_type": "markdown",
   "metadata": {},
   "source": [
    "## Save Data to Parquet\n",
    "\n",
    "### Dask \n",
    "\n",
    "We can work with with large data sets and parquet files. In fact, recent versions of pandas support pyarrow data types and future versions will require a pyarrow backend. The pyarrow library is an interface between Python and the Appache Arrow project. The [parquet data format](https://parquet.apache.org/) and [Arrow](https://arrow.apache.org/docs/python/parquet.html) are projects of the Apache Foundation.\n",
    "\n",
    "However, Dask is much more than an interface to Arrow: Dask provides parallel and distributed computing on pandas-like dataframes. It is also relatively easy to use, bridging a gap between pandas and Spark. "
   ]
  },
  {
   "cell_type": "code",
   "execution_count": 10,
   "metadata": {},
   "outputs": [
    {
     "name": "stderr",
     "output_type": "stream",
     "text": [
      "d:\\miniconda3\\envs\\dsi_participant\\lib\\site-packages\\dask\\dataframe\\_pyarrow_compat.py:15: FutureWarning: Minimal version of pyarrow will soon be increased to 14.0.1. You are using 11.0.0. Please consider upgrading.\n",
      "  warnings.warn(\n"
     ]
    }
   ],
   "source": [
    "import dask.dataframe as dd\n",
    "\n",
    "parquet_dir = os.path.join(temp, \"parquet\")\n",
    "shutil.rmtree(parquet_dir, ignore_errors=True)\n",
    "os.makedirs(parquet_dir, exist_ok=True)"
   ]
  },
  {
   "cell_type": "code",
   "execution_count": 11,
   "metadata": {},
   "outputs": [
    {
     "name": "stderr",
     "output_type": "stream",
     "text": [
      "2025-06-03 19:54:56,328, 817812245.py, 7, INFO, Writing dd ((239659, 9)) to parquet took 6.026154279708862 seconds.\n",
      "2025-06-03 19:54:56,330, 817812245.py, 8, INFO, Parquet file size 9.695952 MB\n"
     ]
    }
   ],
   "source": [
    "px_dd = dd.from_pandas(stock_prices, npartitions = len(select_tickers))\n",
    "\n",
    "start = time.time()\n",
    "px_dd.to_parquet(parquet_dir, engine = \"pyarrow\")\n",
    "end = time.time()\n",
    "\n",
    "_logs.info(f'Writing dd ({stock_prices.shape}) to parquet took {end - start} seconds.')\n",
    "_logs.info(f'Parquet file size { get_dir_size(parquet_dir)*1e-6 } MB')"
   ]
  },
  {
   "cell_type": "markdown",
   "metadata": {},
   "source": [
    "### Parquet files and Dask Dataframes\n",
    "\n",
    "+ Parquet files are immutable: once written, they cannot be modified.\n",
    "+ Dask DataFrames are a useful implementation to manipulate data stored in parquets.\n",
    "+ Parquet and Dask are not the same: parquet is a file format that can be accessed by many applications and programming languages (Python, R, PowerBI, etc.), while Dask is a package in Python to work with large datasets using distributed computation.\n",
    "+ **Dask is not for everything** (see [Dask DataFrames Best Practices](https://docs.dask.org/en/stable/dataframe-best-practices.html)). \n",
    "\n",
    "    - Consider cases suchas small to large joins, where the small dataframe fits in memory, but the large one does not. \n",
    "    - If possible, use pandas: reduce, then use pandas.\n",
    "    - Pandas performance tips apply to Dask.\n",
    "    - Use the index: it is beneficial to have a well-defined index in Dask DataFrames, as it may speed up searching (filtering) the data. A one-dimensional index is allowed.\n",
    "    - Avoid (or minimize) full-data shuffling: indexing is an expensive operations. \n",
    "    - Some joins are more expensive than others. \n",
    "\n",
    "        * Not expensive:\n",
    "\n",
    "            - Join a Dask DataFrame with a pandas DataFrame.\n",
    "            - Join a Dask DataFrame with another Dask DataFrame of a single partition.\n",
    "            - Join Dask DataFrames along their indexes.\n",
    "\n",
    "        * Expensive:\n",
    "\n",
    "            - Join Dask DataFrames along columns that are not their index.\n"
   ]
  },
  {
   "cell_type": "markdown",
   "metadata": {},
   "source": [
    "# How do we store prices?\n",
    "\n",
    "+ We can store our data as a single blob. This can be difficult to maintain, especially because parquet files are immutable.\n",
    "+ Strategy: organize data files by ticker and date. Update only latest month.\n",
    "\n"
   ]
  },
  {
   "cell_type": "code",
   "execution_count": 12,
   "metadata": {},
   "outputs": [],
   "source": [
    "# CLean up before start\n",
    "PRICE_DATA = os.getenv(\"PRICE_DATA\")\n",
    "import shutil\n",
    "if os.path.exists(PRICE_DATA):\n",
    "    shutil.rmtree(PRICE_DATA)"
   ]
  },
  {
   "cell_type": "code",
   "execution_count": 13,
   "metadata": {},
   "outputs": [
    {
     "data": {
      "text/plain": [
       "Index(['Date', 'Open', 'High', 'Low', 'Close', 'Adj Close', 'Volume', 'source',\n",
       "       'ticker'],\n",
       "      dtype='object')"
      ]
     },
     "execution_count": 13,
     "metadata": {},
     "output_type": "execute_result"
    }
   ],
   "source": [
    "stock_prices.columns"
   ]
  },
  {
   "cell_type": "code",
   "execution_count": 14,
   "metadata": {},
   "outputs": [],
   "source": [
    "for ticker in stock_prices['ticker'].unique():\n",
    "    ticker_dt = stock_prices[stock_prices['ticker'] == ticker]\n",
    "    ticker_dt = ticker_dt.assign(Year = ticker_dt.Date.dt.year)\n",
    "    for yr in ticker_dt['Year'].unique():\n",
    "        yr_dd = dd.from_pandas(ticker_dt[ticker_dt['Year'] == yr],2)\n",
    "        yr_path = os.path.join(PRICE_DATA, ticker, f\"{ticker}_{yr}\")\n",
    "        os.makedirs(os.path.dirname(yr_path), exist_ok=True)\n",
    "        yr_dd.to_parquet(yr_path, engine = \"pyarrow\")\n",
    "    "
   ]
  },
  {
   "cell_type": "markdown",
   "metadata": {},
   "source": [
    "Why would we want to store data this way?\n",
    "\n",
    "+ Easier to maintain. We do not update old data, only recent data.\n",
    "+ We can also access all files as follows."
   ]
  },
  {
   "cell_type": "markdown",
   "metadata": {},
   "source": [
    "# Load, Transform and Save "
   ]
  },
  {
   "cell_type": "markdown",
   "metadata": {},
   "source": [
    "## Load\n",
    "\n",
    "+ Parquet files can be read individually or as a collection.\n",
    "+ `dd.read_parquet()` can take a list (collection) of files as input.\n",
    "+ Use `glob` to get the collection of files."
   ]
  },
  {
   "cell_type": "code",
   "execution_count": 15,
   "metadata": {},
   "outputs": [],
   "source": [
    "from glob import glob\n",
    "\n",
    "parquet_files = glob(os.path.join(PRICE_DATA, \"**/*.parquet\"), recursive = True)\n",
    "dd_px = dd.read_parquet(parquet_files).set_index(\"ticker\")"
   ]
  },
  {
   "cell_type": "markdown",
   "metadata": {},
   "source": [
    "## Transform\n",
    "\n",
    "+ This transformation step will create a *Features* data set. In our case, features will be stock returns (we obtained prices).\n",
    "+ Dask dataframes work like pandas dataframes: in particular, we can perform groupby and apply operations.\n",
    "+ Notice the use of [an anonymous (lambda) function](https://realpython.com/python-lambda/) in the apply statement."
   ]
  },
  {
   "cell_type": "code",
   "execution_count": 16,
   "metadata": {},
   "outputs": [
    {
     "name": "stderr",
     "output_type": "stream",
     "text": [
      "C:\\Users\\deyso\\AppData\\Local\\Temp\\ipykernel_26268\\102405636.py:1: UserWarning: `meta` is not specified, inferred from partial data. Please provide `meta` if the result is unexpected.\n",
      "  Before: .apply(func)\n",
      "  After:  .apply(func, meta={'x': 'f8', 'y': 'f8'}) for dataframe result\n",
      "  or:     .apply(func, meta=('x', 'f8'))            for series result\n",
      "  dd_shift = dd_px.groupby('ticker', group_keys=False).apply(\n"
     ]
    }
   ],
   "source": [
    "dd_shift = dd_px.groupby('ticker', group_keys=False).apply(\n",
    "    lambda x: x.assign(Close_lag_1 = x['Close'].shift(1))\n",
    ")"
   ]
  },
  {
   "cell_type": "code",
   "execution_count": 17,
   "metadata": {},
   "outputs": [],
   "source": [
    "dd_rets = dd_shift.assign(\n",
    "    Returns = lambda x: x['Close']/x['Close_lag_1'] - 1\n",
    ")"
   ]
  },
  {
   "cell_type": "markdown",
   "metadata": {},
   "source": [
    "## Lazy Exection\n",
    "\n",
    "What does `dd_rets` contain?"
   ]
  },
  {
   "cell_type": "code",
   "execution_count": 18,
   "metadata": {},
   "outputs": [
    {
     "data": {
      "text/html": [
       "<div><strong>Dask DataFrame Structure:</strong></div>\n",
       "<table border=\"1\" class=\"dataframe\">\n",
       "  <thead>\n",
       "    <tr style=\"text-align: right;\">\n",
       "      <th></th>\n",
       "      <th>Date</th>\n",
       "      <th>Open</th>\n",
       "      <th>High</th>\n",
       "      <th>Low</th>\n",
       "      <th>Close</th>\n",
       "      <th>Adj Close</th>\n",
       "      <th>Volume</th>\n",
       "      <th>source</th>\n",
       "      <th>Year</th>\n",
       "      <th>Close_lag_1</th>\n",
       "      <th>Returns</th>\n",
       "    </tr>\n",
       "    <tr>\n",
       "      <th>npartitions=60</th>\n",
       "      <th></th>\n",
       "      <th></th>\n",
       "      <th></th>\n",
       "      <th></th>\n",
       "      <th></th>\n",
       "      <th></th>\n",
       "      <th></th>\n",
       "      <th></th>\n",
       "      <th></th>\n",
       "      <th></th>\n",
       "      <th></th>\n",
       "    </tr>\n",
       "  </thead>\n",
       "  <tbody>\n",
       "    <tr>\n",
       "      <th>ACN</th>\n",
       "      <td>datetime64[ns]</td>\n",
       "      <td>float64</td>\n",
       "      <td>float64</td>\n",
       "      <td>float64</td>\n",
       "      <td>float64</td>\n",
       "      <td>float64</td>\n",
       "      <td>float64</td>\n",
       "      <td>object</td>\n",
       "      <td>int32</td>\n",
       "      <td>float64</td>\n",
       "      <td>float64</td>\n",
       "    </tr>\n",
       "    <tr>\n",
       "      <th>ALDX</th>\n",
       "      <td>...</td>\n",
       "      <td>...</td>\n",
       "      <td>...</td>\n",
       "      <td>...</td>\n",
       "      <td>...</td>\n",
       "      <td>...</td>\n",
       "      <td>...</td>\n",
       "      <td>...</td>\n",
       "      <td>...</td>\n",
       "      <td>...</td>\n",
       "      <td>...</td>\n",
       "    </tr>\n",
       "    <tr>\n",
       "      <th>...</th>\n",
       "      <td>...</td>\n",
       "      <td>...</td>\n",
       "      <td>...</td>\n",
       "      <td>...</td>\n",
       "      <td>...</td>\n",
       "      <td>...</td>\n",
       "      <td>...</td>\n",
       "      <td>...</td>\n",
       "      <td>...</td>\n",
       "      <td>...</td>\n",
       "      <td>...</td>\n",
       "    </tr>\n",
       "    <tr>\n",
       "      <th>ZIXI</th>\n",
       "      <td>...</td>\n",
       "      <td>...</td>\n",
       "      <td>...</td>\n",
       "      <td>...</td>\n",
       "      <td>...</td>\n",
       "      <td>...</td>\n",
       "      <td>...</td>\n",
       "      <td>...</td>\n",
       "      <td>...</td>\n",
       "      <td>...</td>\n",
       "      <td>...</td>\n",
       "    </tr>\n",
       "    <tr>\n",
       "      <th>ZIXI</th>\n",
       "      <td>...</td>\n",
       "      <td>...</td>\n",
       "      <td>...</td>\n",
       "      <td>...</td>\n",
       "      <td>...</td>\n",
       "      <td>...</td>\n",
       "      <td>...</td>\n",
       "      <td>...</td>\n",
       "      <td>...</td>\n",
       "      <td>...</td>\n",
       "      <td>...</td>\n",
       "    </tr>\n",
       "  </tbody>\n",
       "</table>\n",
       "<div>Dask Name: assign, 9 expressions</div>"
      ],
      "text/plain": [
       "Dask DataFrame Structure:\n",
       "                          Date     Open     High      Low    Close Adj Close   Volume  source   Year Close_lag_1  Returns\n",
       "npartitions=60                                                                                                           \n",
       "ACN             datetime64[ns]  float64  float64  float64  float64   float64  float64  object  int32     float64  float64\n",
       "ALDX                       ...      ...      ...      ...      ...       ...      ...     ...    ...         ...      ...\n",
       "...                        ...      ...      ...      ...      ...       ...      ...     ...    ...         ...      ...\n",
       "ZIXI                       ...      ...      ...      ...      ...       ...      ...     ...    ...         ...      ...\n",
       "ZIXI                       ...      ...      ...      ...      ...       ...      ...     ...    ...         ...      ...\n",
       "Dask Name: assign, 9 expressions\n",
       "Expr=Assign(frame=Assign(frame=GroupByApply(frame=SetIndex(frame=ReadParquetFSSpec(cf678f8), _other='ticker', options={}), observed=False, group_keys=False, func=<function <lambda> at 0x0000020571DE9EE0>, meta=<no_default>, args=(), kwargs={})))"
      ]
     },
     "execution_count": 18,
     "metadata": {},
     "output_type": "execute_result"
    }
   ],
   "source": [
    "dd_rets"
   ]
  },
  {
   "cell_type": "markdown",
   "metadata": {},
   "source": [
    "+ Dask is a lazy execution framework: commands will not execute until they are required. \n",
    "+ To trigger an execution in dask use `.compute()`."
   ]
  },
  {
   "cell_type": "code",
   "execution_count": 19,
   "metadata": {},
   "outputs": [
    {
     "data": {
      "application/vnd.microsoft.datawrangler.viewer.v0+json": {
       "columns": [
        {
         "name": "ticker",
         "rawType": "object",
         "type": "string"
        },
        {
         "name": "Date",
         "rawType": "datetime64[ns]",
         "type": "datetime"
        },
        {
         "name": "Open",
         "rawType": "float64",
         "type": "float"
        },
        {
         "name": "High",
         "rawType": "float64",
         "type": "float"
        },
        {
         "name": "Low",
         "rawType": "float64",
         "type": "float"
        },
        {
         "name": "Close",
         "rawType": "float64",
         "type": "float"
        },
        {
         "name": "Adj Close",
         "rawType": "float64",
         "type": "float"
        },
        {
         "name": "Volume",
         "rawType": "float64",
         "type": "float"
        },
        {
         "name": "source",
         "rawType": "object",
         "type": "string"
        },
        {
         "name": "Year",
         "rawType": "int32",
         "type": "integer"
        },
        {
         "name": "Close_lag_1",
         "rawType": "float64",
         "type": "float"
        },
        {
         "name": "Returns",
         "rawType": "float64",
         "type": "float"
        }
       ],
       "ref": "cfffa12e-e2bc-4070-8eeb-b0644b5779b1",
       "rows": [
        [
         "ACN",
         "2001-07-19 00:00:00",
         "15.100000381469728",
         "15.289999961853027",
         "15.0",
         "15.170000076293944",
         "11.404394149780272",
         "34994300.0",
         "ACN.csv",
         "2001",
         null,
         null
        ],
        [
         "ACN",
         "2001-07-20 00:00:00",
         "15.050000190734863",
         "15.050000190734863",
         "14.800000190734863",
         "15.010000228881836",
         "11.28410816192627",
         "9238500.0",
         "ACN.csv",
         "2001",
         "15.170000076293944",
         "-0.01054712238677824"
        ],
        [
         "ACN",
         "2001-07-23 00:00:00",
         "15.0",
         "15.010000228881836",
         "14.550000190734863",
         "15.0",
         "11.27658748626709",
         "7501000.0",
         "ACN.csv",
         "2001",
         "15.010000228881836",
         "-0.000666237756785204"
        ],
        [
         "ACN",
         "2001-07-24 00:00:00",
         "14.949999809265137",
         "14.970000267028809",
         "14.699999809265137",
         "14.859999656677246",
         "11.171340942382812",
         "3537300.0",
         "ACN.csv",
         "2001",
         "15.0",
         "-0.009333356221516875"
        ],
        [
         "ACN",
         "2001-07-25 00:00:00",
         "14.699999809265137",
         "14.949999809265137",
         "14.649999618530272",
         "14.949999809265137",
         "11.238999366760254",
         "4208100.0",
         "ACN.csv",
         "2001",
         "14.859999656677246",
         "0.006056537999141076"
        ],
        [
         "ACN",
         "2001-07-26 00:00:00",
         "14.949999809265137",
         "14.989999771118164",
         "14.5",
         "14.5",
         "10.900705337524414",
         "6335300.0",
         "ACN.csv",
         "2001",
         "14.949999809265137",
         "-0.03010032207400115"
        ],
        [
         "ACN",
         "2001-07-27 00:00:00",
         "14.510000228881836",
         "14.59000015258789",
         "14.5",
         "14.510000228881836",
         "10.908223152160645",
         "3524000.0",
         "ACN.csv",
         "2001",
         "14.5",
         "0.0006896709573680493"
        ],
        [
         "ACN",
         "2001-07-30 00:00:00",
         "14.5",
         "14.779999732971191",
         "14.5",
         "14.699999809265137",
         "11.051058769226074",
         "3654300.0",
         "ACN.csv",
         "2001",
         "14.510000228881836",
         "0.013094388517314481"
        ],
        [
         "ACN",
         "2001-07-31 00:00:00",
         "14.710000038146973",
         "15.010000228881836",
         "14.600000381469728",
         "14.960000038146973",
         "11.246520042419434",
         "1429000.0",
         "ACN.csv",
         "2001",
         "14.699999809265137",
         "0.01768709062961782"
        ],
        [
         "ACN",
         "2001-08-01 00:00:00",
         "15.0",
         "15.5",
         "14.899999618530272",
         "15.5",
         "11.652478218078612",
         "2087900.0",
         "ACN.csv",
         "2001",
         "14.960000038146973",
         "0.036096254042517595"
        ],
        [
         "ACN",
         "2001-08-02 00:00:00",
         "15.399999618530272",
         "15.5",
         "15.100000381469728",
         "15.399999618530272",
         "11.57730197906494",
         "1717400.0",
         "ACN.csv",
         "2001",
         "15.5",
         "-0.00645163751417599"
        ],
        [
         "ACN",
         "2001-08-03 00:00:00",
         "15.399999618530272",
         "15.399999618530272",
         "14.979999542236328",
         "15.149999618530272",
         "11.389355659484863",
         "983600.0",
         "ACN.csv",
         "2001",
         "15.399999618530272",
         "-0.016233766635889046"
        ],
        [
         "ACN",
         "2001-08-06 00:00:00",
         "15.149999618530272",
         "15.220000267028809",
         "15.020000457763672",
         "15.100000381469728",
         "11.351768493652344",
         "777400.0",
         "ACN.csv",
         "2001",
         "15.149999618530272",
         "-0.0033002797570627074"
        ],
        [
         "ACN",
         "2001-08-07 00:00:00",
         "15.100000381469728",
         "15.550000190734863",
         "15.100000381469728",
         "15.5",
         "11.652478218078612",
         "788900.0",
         "ACN.csv",
         "2001",
         "15.100000381469728",
         "0.026490040293054573"
        ],
        [
         "ACN",
         "2001-08-08 00:00:00",
         "15.399999618530272",
         "15.600000381469728",
         "15.0",
         "15.0",
         "11.27658748626709",
         "2190300.0",
         "ACN.csv",
         "2001",
         "15.5",
         "-0.032258064516129004"
        ],
        [
         "ACN",
         "2001-08-09 00:00:00",
         "15.050000190734863",
         "15.5",
         "15.0",
         "15.5",
         "11.652478218078612",
         "928000.0",
         "ACN.csv",
         "2001",
         "15.0",
         "0.03333333333333344"
        ],
        [
         "ACN",
         "2001-08-10 00:00:00",
         "15.399999618530272",
         "15.399999618530272",
         "15.119999885559082",
         "15.1899995803833",
         "11.419425964355469",
         "703300.0",
         "ACN.csv",
         "2001",
         "15.5",
         "-0.020000027072045068"
        ],
        [
         "ACN",
         "2001-08-13 00:00:00",
         "15.149999618530272",
         "15.34000015258789",
         "14.899999618530272",
         "15.010000228881836",
         "11.28410816192627",
         "1770400.0",
         "ACN.csv",
         "2001",
         "15.1899995803833",
         "-0.011849858885705333"
        ],
        [
         "ACN",
         "2001-08-14 00:00:00",
         "15.050000190734863",
         "15.0600004196167",
         "14.649999618530272",
         "14.699999809265137",
         "11.051058769226074",
         "1000800.0",
         "ACN.csv",
         "2001",
         "15.010000228881836",
         "-0.020652925708835368"
        ],
        [
         "ACN",
         "2001-08-15 00:00:00",
         "14.75",
         "14.899999618530272",
         "14.699999809265137",
         "14.789999961853027",
         "11.118717193603516",
         "530900.0",
         "ACN.csv",
         "2001",
         "14.699999809265137",
         "0.006122459439160455"
        ],
        [
         "ACN",
         "2001-08-16 00:00:00",
         "14.779999732971191",
         "14.779999732971191",
         "14.050000190734863",
         "14.050000190734863",
         "10.562406539916992",
         "1522700.0",
         "ACN.csv",
         "2001",
         "14.789999961853027",
         "-0.050033791279702644"
        ],
        [
         "ACN",
         "2001-08-17 00:00:00",
         "14.0600004196167",
         "14.800000190734863",
         "13.899999618530272",
         "14.520000457763672",
         "10.915739059448242",
         "2342400.0",
         "ACN.csv",
         "2001",
         "14.050000190734863",
         "0.03345197584685766"
        ],
        [
         "ACN",
         "2001-08-20 00:00:00",
         "14.600000381469728",
         "15.350000381469728",
         "14.489999771118164",
         "15.350000381469728",
         "11.539711952209473",
         "1434900.0",
         "ACN.csv",
         "2001",
         "14.520000457763672",
         "0.057162527378727734"
        ],
        [
         "ACN",
         "2001-08-21 00:00:00",
         "15.25",
         "15.600000381469728",
         "15.010000228881836",
         "15.460000038146973",
         "11.62240505218506",
         "1038200.0",
         "ACN.csv",
         "2001",
         "15.350000381469728",
         "0.0071661012341104335"
        ],
        [
         "ACN",
         "2001-08-22 00:00:00",
         "15.31999969482422",
         "15.390000343322754",
         "14.779999732971191",
         "15.34000015258789",
         "11.532191276550291",
         "829000.0",
         "ACN.csv",
         "2001",
         "15.460000038146973",
         "-0.00776195894327214"
        ],
        [
         "ACN",
         "2001-08-23 00:00:00",
         "15.449999809265137",
         "15.449999809265137",
         "15.25",
         "15.25",
         "11.464534759521484",
         "470000.0",
         "ACN.csv",
         "2001",
         "15.34000015258789",
         "-0.005867024230290285"
        ],
        [
         "ACN",
         "2001-08-24 00:00:00",
         "15.25",
         "15.479999542236328",
         "15.0",
         "15.399999618530272",
         "11.57730197906494",
         "689000.0",
         "ACN.csv",
         "2001",
         "15.25",
         "0.009836040559362047"
        ],
        [
         "ACN",
         "2001-08-27 00:00:00",
         "15.479999542236328",
         "15.649999618530272",
         "15.399999618530272",
         "15.479999542236328",
         "11.637439727783203",
         "827700.0",
         "ACN.csv",
         "2001",
         "15.399999618530272",
         "0.005194800369332286"
        ],
        [
         "ACN",
         "2001-08-28 00:00:00",
         "15.420000076293944",
         "15.579999923706056",
         "15.25",
         "15.359999656677246",
         "11.547226905822754",
         "736900.0",
         "ACN.csv",
         "2001",
         "15.479999542236328",
         "-0.007751930820906638"
        ],
        [
         "ACN",
         "2001-08-29 00:00:00",
         "15.289999961853027",
         "15.3100004196167",
         "15.0",
         "15.010000228881836",
         "11.28410816192627",
         "397400.0",
         "ACN.csv",
         "2001",
         "15.359999656677246",
         "-0.02278642158974653"
        ],
        [
         "ACN",
         "2001-08-30 00:00:00",
         "14.850000381469728",
         "15.039999961853027",
         "14.850000381469728",
         "14.949999809265137",
         "11.238999366760254",
         "640100.0",
         "ACN.csv",
         "2001",
         "15.010000228881836",
         "-0.003997363004781818"
        ],
        [
         "ACN",
         "2001-08-31 00:00:00",
         "15.0",
         "15.100000381469728",
         "14.899999618530272",
         "14.899999618530272",
         "11.20141315460205",
         "3337900.0",
         "ACN.csv",
         "2001",
         "14.949999809265137",
         "-0.003344494406205767"
        ],
        [
         "ACN",
         "2001-09-04 00:00:00",
         "15.0",
         "15.649999618530272",
         "15.0",
         "15.380000114440918",
         "11.562265396118164",
         "1068600.0",
         "ACN.csv",
         "2001",
         "14.899999618530272",
         "0.032214799208027944"
        ],
        [
         "ACN",
         "2001-09-05 00:00:00",
         "15.380000114440918",
         "15.380000114440918",
         "14.899999618530272",
         "14.90999984741211",
         "11.20893096923828",
         "1053200.0",
         "ACN.csv",
         "2001",
         "15.380000114440918",
         "-0.030559184885018742"
        ],
        [
         "ACN",
         "2001-09-06 00:00:00",
         "14.75",
         "15.010000228881836",
         "14.399999618530272",
         "14.5",
         "10.900705337524414",
         "1384500.0",
         "ACN.csv",
         "2001",
         "14.90999984741211",
         "-0.02749831332045738"
        ],
        [
         "ACN",
         "2001-09-07 00:00:00",
         "14.449999809265137",
         "14.640000343322754",
         "14.350000381469728",
         "14.520000457763672",
         "10.915739059448242",
         "1408500.0",
         "ACN.csv",
         "2001",
         "14.5",
         "0.0013793419147360986"
        ],
        [
         "ACN",
         "2001-09-10 00:00:00",
         "14.579999923706056",
         "15.15999984741211",
         "14.550000190734863",
         "15.149999618530272",
         "11.389355659484863",
         "622100.0",
         "ACN.csv",
         "2001",
         "14.520000457763672",
         "0.04338837058574252"
        ],
        [
         "ACN",
         "2001-09-17 00:00:00",
         "15.140000343322754",
         "15.140000343322754",
         "14.470000267028809",
         "14.600000381469728",
         "10.975881576538086",
         "1934300.0",
         "ACN.csv",
         "2001",
         "15.149999618530272",
         "-0.03630358091810304"
        ],
        [
         "ACN",
         "2001-09-18 00:00:00",
         "14.600000381469728",
         "15.0",
         "14.350000381469728",
         "14.550000190734863",
         "10.938292503356934",
         "902800.0",
         "ACN.csv",
         "2001",
         "14.600000381469728",
         "-0.0034246705087984664"
        ],
        [
         "ACN",
         "2001-09-19 00:00:00",
         "14.600000381469728",
         "14.6899995803833",
         "13.720000267028809",
         "13.949999809265137",
         "10.487226486206056",
         "2415400.0",
         "ACN.csv",
         "2001",
         "14.550000190734863",
         "-0.0412371390793379"
        ],
        [
         "ACN",
         "2001-09-20 00:00:00",
         "13.899999618530272",
         "13.899999618530272",
         "12.84000015258789",
         "12.949999809265137",
         "9.735455513000488",
         "3498900.0",
         "ACN.csv",
         "2001",
         "13.949999809265137",
         "-0.07168458879374551"
        ],
        [
         "ACN",
         "2001-09-21 00:00:00",
         "12.850000381469728",
         "13.0",
         "12.15999984741211",
         "12.75",
         "9.58510398864746",
         "2051800.0",
         "ACN.csv",
         "2001",
         "12.949999809265137",
         "-0.015444000942922531"
        ],
        [
         "ACN",
         "2001-09-24 00:00:00",
         "13.0",
         "13.279999732971191",
         "12.949999809265137",
         "13.199999809265137",
         "9.9233980178833",
         "1964200.0",
         "ACN.csv",
         "2001",
         "12.75",
         "0.035294102687461804"
        ],
        [
         "ACN",
         "2001-09-25 00:00:00",
         "13.199999809265137",
         "13.199999809265137",
         "12.699999809265137",
         "12.800000190734863",
         "9.622690200805664",
         "1827300.0",
         "ACN.csv",
         "2001",
         "13.199999809265137",
         "-0.030303001841675226"
        ],
        [
         "ACN",
         "2001-09-26 00:00:00",
         "12.800000190734863",
         "12.960000038146973",
         "12.199999809265137",
         "12.199999809265137",
         "9.171626091003418",
         "3327200.0",
         "ACN.csv",
         "2001",
         "12.800000190734863",
         "-0.04687502910383001"
        ],
        [
         "ACN",
         "2001-09-27 00:00:00",
         "12.260000228881836",
         "12.260000228881836",
         "11.609999656677246",
         "11.850000381469728",
         "8.908507347106934",
         "2347500.0",
         "ACN.csv",
         "2001",
         "12.199999809265137",
         "-0.028688478136664086"
        ],
        [
         "ACN",
         "2001-09-28 00:00:00",
         "12.100000381469728",
         "13.449999809265137",
         "12.100000381469728",
         "12.75",
         "9.58510398864746",
         "2844000.0",
         "ACN.csv",
         "2001",
         "11.850000381469728",
         "0.07594933245214341"
        ],
        [
         "ACN",
         "2001-10-01 00:00:00",
         "12.649999618530272",
         "13.0",
         "12.649999618530272",
         "12.699999809265137",
         "9.547510147094728",
         "878800.0",
         "ACN.csv",
         "2001",
         "12.75",
         "-0.003921583587048083"
        ],
        [
         "ACN",
         "2001-10-02 00:00:00",
         "12.550000190734863",
         "12.699999809265137",
         "12.119999885559082",
         "12.579999923706056",
         "9.457303047180176",
         "1900400.0",
         "ACN.csv",
         "2001",
         "12.699999809265137",
         "-0.009448810028448662"
        ],
        [
         "ACN",
         "2001-10-03 00:00:00",
         "12.619999885559082",
         "13.0600004196167",
         "12.600000381469728",
         "12.949999809265137",
         "9.735455513000488",
         "2539400.0",
         "ACN.csv",
         "2001",
         "12.579999923706056",
         "0.029411755787203342"
        ]
       ],
       "shape": {
        "columns": 11,
        "rows": 239659
       }
      },
      "text/html": [
       "<div>\n",
       "<style scoped>\n",
       "    .dataframe tbody tr th:only-of-type {\n",
       "        vertical-align: middle;\n",
       "    }\n",
       "\n",
       "    .dataframe tbody tr th {\n",
       "        vertical-align: top;\n",
       "    }\n",
       "\n",
       "    .dataframe thead th {\n",
       "        text-align: right;\n",
       "    }\n",
       "</style>\n",
       "<table border=\"1\" class=\"dataframe\">\n",
       "  <thead>\n",
       "    <tr style=\"text-align: right;\">\n",
       "      <th></th>\n",
       "      <th>Date</th>\n",
       "      <th>Open</th>\n",
       "      <th>High</th>\n",
       "      <th>Low</th>\n",
       "      <th>Close</th>\n",
       "      <th>Adj Close</th>\n",
       "      <th>Volume</th>\n",
       "      <th>source</th>\n",
       "      <th>Year</th>\n",
       "      <th>Close_lag_1</th>\n",
       "      <th>Returns</th>\n",
       "    </tr>\n",
       "    <tr>\n",
       "      <th>ticker</th>\n",
       "      <th></th>\n",
       "      <th></th>\n",
       "      <th></th>\n",
       "      <th></th>\n",
       "      <th></th>\n",
       "      <th></th>\n",
       "      <th></th>\n",
       "      <th></th>\n",
       "      <th></th>\n",
       "      <th></th>\n",
       "      <th></th>\n",
       "    </tr>\n",
       "  </thead>\n",
       "  <tbody>\n",
       "    <tr>\n",
       "      <th>ACN</th>\n",
       "      <td>2001-07-19</td>\n",
       "      <td>15.10</td>\n",
       "      <td>15.29</td>\n",
       "      <td>15.00</td>\n",
       "      <td>15.17</td>\n",
       "      <td>11.404394</td>\n",
       "      <td>34994300.0</td>\n",
       "      <td>ACN.csv</td>\n",
       "      <td>2001</td>\n",
       "      <td>NaN</td>\n",
       "      <td>NaN</td>\n",
       "    </tr>\n",
       "    <tr>\n",
       "      <th>ACN</th>\n",
       "      <td>2001-07-20</td>\n",
       "      <td>15.05</td>\n",
       "      <td>15.05</td>\n",
       "      <td>14.80</td>\n",
       "      <td>15.01</td>\n",
       "      <td>11.284108</td>\n",
       "      <td>9238500.0</td>\n",
       "      <td>ACN.csv</td>\n",
       "      <td>2001</td>\n",
       "      <td>15.17</td>\n",
       "      <td>-0.010547</td>\n",
       "    </tr>\n",
       "    <tr>\n",
       "      <th>ACN</th>\n",
       "      <td>2001-07-23</td>\n",
       "      <td>15.00</td>\n",
       "      <td>15.01</td>\n",
       "      <td>14.55</td>\n",
       "      <td>15.00</td>\n",
       "      <td>11.276587</td>\n",
       "      <td>7501000.0</td>\n",
       "      <td>ACN.csv</td>\n",
       "      <td>2001</td>\n",
       "      <td>15.01</td>\n",
       "      <td>-0.000666</td>\n",
       "    </tr>\n",
       "    <tr>\n",
       "      <th>ACN</th>\n",
       "      <td>2001-07-24</td>\n",
       "      <td>14.95</td>\n",
       "      <td>14.97</td>\n",
       "      <td>14.70</td>\n",
       "      <td>14.86</td>\n",
       "      <td>11.171341</td>\n",
       "      <td>3537300.0</td>\n",
       "      <td>ACN.csv</td>\n",
       "      <td>2001</td>\n",
       "      <td>15.00</td>\n",
       "      <td>-0.009333</td>\n",
       "    </tr>\n",
       "    <tr>\n",
       "      <th>ACN</th>\n",
       "      <td>2001-07-25</td>\n",
       "      <td>14.70</td>\n",
       "      <td>14.95</td>\n",
       "      <td>14.65</td>\n",
       "      <td>14.95</td>\n",
       "      <td>11.238999</td>\n",
       "      <td>4208100.0</td>\n",
       "      <td>ACN.csv</td>\n",
       "      <td>2001</td>\n",
       "      <td>14.86</td>\n",
       "      <td>0.006057</td>\n",
       "    </tr>\n",
       "    <tr>\n",
       "      <th>...</th>\n",
       "      <td>...</td>\n",
       "      <td>...</td>\n",
       "      <td>...</td>\n",
       "      <td>...</td>\n",
       "      <td>...</td>\n",
       "      <td>...</td>\n",
       "      <td>...</td>\n",
       "      <td>...</td>\n",
       "      <td>...</td>\n",
       "      <td>...</td>\n",
       "      <td>...</td>\n",
       "    </tr>\n",
       "    <tr>\n",
       "      <th>ZIXI</th>\n",
       "      <td>2003-06-26</td>\n",
       "      <td>4.04</td>\n",
       "      <td>4.19</td>\n",
       "      <td>3.86</td>\n",
       "      <td>4.00</td>\n",
       "      <td>4.000000</td>\n",
       "      <td>515300.0</td>\n",
       "      <td>ZIXI.csv</td>\n",
       "      <td>2003</td>\n",
       "      <td>4.04</td>\n",
       "      <td>-0.009901</td>\n",
       "    </tr>\n",
       "    <tr>\n",
       "      <th>ZIXI</th>\n",
       "      <td>2003-06-27</td>\n",
       "      <td>4.00</td>\n",
       "      <td>4.05</td>\n",
       "      <td>3.79</td>\n",
       "      <td>3.85</td>\n",
       "      <td>3.850000</td>\n",
       "      <td>162400.0</td>\n",
       "      <td>ZIXI.csv</td>\n",
       "      <td>2003</td>\n",
       "      <td>4.00</td>\n",
       "      <td>-0.037500</td>\n",
       "    </tr>\n",
       "    <tr>\n",
       "      <th>ZIXI</th>\n",
       "      <td>2003-06-30</td>\n",
       "      <td>3.84</td>\n",
       "      <td>4.00</td>\n",
       "      <td>3.72</td>\n",
       "      <td>3.77</td>\n",
       "      <td>3.770000</td>\n",
       "      <td>119900.0</td>\n",
       "      <td>ZIXI.csv</td>\n",
       "      <td>2003</td>\n",
       "      <td>3.85</td>\n",
       "      <td>-0.020779</td>\n",
       "    </tr>\n",
       "    <tr>\n",
       "      <th>ZIXI</th>\n",
       "      <td>2003-07-01</td>\n",
       "      <td>3.72</td>\n",
       "      <td>3.85</td>\n",
       "      <td>3.65</td>\n",
       "      <td>3.78</td>\n",
       "      <td>3.780000</td>\n",
       "      <td>202100.0</td>\n",
       "      <td>ZIXI.csv</td>\n",
       "      <td>2003</td>\n",
       "      <td>3.77</td>\n",
       "      <td>0.002653</td>\n",
       "    </tr>\n",
       "    <tr>\n",
       "      <th>ZIXI</th>\n",
       "      <td>2003-07-02</td>\n",
       "      <td>3.81</td>\n",
       "      <td>3.99</td>\n",
       "      <td>3.73</td>\n",
       "      <td>3.73</td>\n",
       "      <td>3.730000</td>\n",
       "      <td>81100.0</td>\n",
       "      <td>ZIXI.csv</td>\n",
       "      <td>2003</td>\n",
       "      <td>3.78</td>\n",
       "      <td>-0.013228</td>\n",
       "    </tr>\n",
       "  </tbody>\n",
       "</table>\n",
       "<p>239659 rows × 11 columns</p>\n",
       "</div>"
      ],
      "text/plain": [
       "             Date   Open   High    Low  Close  Adj Close      Volume  \\\n",
       "ticker                                                                 \n",
       "ACN    2001-07-19  15.10  15.29  15.00  15.17  11.404394  34994300.0   \n",
       "ACN    2001-07-20  15.05  15.05  14.80  15.01  11.284108   9238500.0   \n",
       "ACN    2001-07-23  15.00  15.01  14.55  15.00  11.276587   7501000.0   \n",
       "ACN    2001-07-24  14.95  14.97  14.70  14.86  11.171341   3537300.0   \n",
       "ACN    2001-07-25  14.70  14.95  14.65  14.95  11.238999   4208100.0   \n",
       "...           ...    ...    ...    ...    ...        ...         ...   \n",
       "ZIXI   2003-06-26   4.04   4.19   3.86   4.00   4.000000    515300.0   \n",
       "ZIXI   2003-06-27   4.00   4.05   3.79   3.85   3.850000    162400.0   \n",
       "ZIXI   2003-06-30   3.84   4.00   3.72   3.77   3.770000    119900.0   \n",
       "ZIXI   2003-07-01   3.72   3.85   3.65   3.78   3.780000    202100.0   \n",
       "ZIXI   2003-07-02   3.81   3.99   3.73   3.73   3.730000     81100.0   \n",
       "\n",
       "          source  Year  Close_lag_1   Returns  \n",
       "ticker                                         \n",
       "ACN      ACN.csv  2001          NaN       NaN  \n",
       "ACN      ACN.csv  2001        15.17 -0.010547  \n",
       "ACN      ACN.csv  2001        15.01 -0.000666  \n",
       "ACN      ACN.csv  2001        15.00 -0.009333  \n",
       "ACN      ACN.csv  2001        14.86  0.006057  \n",
       "...          ...   ...          ...       ...  \n",
       "ZIXI    ZIXI.csv  2003         4.04 -0.009901  \n",
       "ZIXI    ZIXI.csv  2003         4.00 -0.037500  \n",
       "ZIXI    ZIXI.csv  2003         3.85 -0.020779  \n",
       "ZIXI    ZIXI.csv  2003         3.77  0.002653  \n",
       "ZIXI    ZIXI.csv  2003         3.78 -0.013228  \n",
       "\n",
       "[239659 rows x 11 columns]"
      ]
     },
     "execution_count": 19,
     "metadata": {},
     "output_type": "execute_result"
    }
   ],
   "source": [
    "dd_rets.compute()"
   ]
  },
  {
   "cell_type": "markdown",
   "metadata": {},
   "source": [
    "## Save\n",
    "\n",
    "+ Apply transformations to calculate daily returns\n",
    "+ Store the enriched data, the silver dataset, in a new directory.\n",
    "+ Should we keep the same namespace? All columns?"
   ]
  },
  {
   "cell_type": "code",
   "execution_count": 20,
   "metadata": {},
   "outputs": [],
   "source": [
    "# CLean up before save\n",
    "FEATURES_DATA = os.getenv(\"FEATURES_DATA\")\n",
    "if os.path.exists(FEATURES_DATA):\n",
    "    shutil.rmtree(FEATURES_DATA)\n",
    "dd_rets.to_parquet(FEATURES_DATA, overwrite = True)"
   ]
  },
  {
   "cell_type": "markdown",
   "metadata": {},
   "source": [
    "# Optional: from Jupyter to Command Line\n",
    "\n",
    "+ We have drafted our code in a Jupyter Notebook. \n",
    "+ Finalized code should be written in Python modules.\n",
    "\n",
    "## Object Oriented vs Functional Programming\n",
    "\n",
    "+ We can use classes to keep parameters and functions together.\n",
    "+ We *could* use Object Oriented Programming, but parallelization of data manipulation and modelling tasks benefit from *Functional Programming*.\n",
    "+ An Idea: \n",
    "\n",
    "    - [Data Oriented Programming](https://blog.klipse.tech/dop/2022/06/22/principles-of-dop.html).\n",
    "    - Use the class to bundle together parameters and functions.\n",
    "    - Use stateless operations and treat all data objects as immutable (we do not modify them, we overwrite them).\n",
    "    - Take advantage of [`@staticmethod`](https://realpython.com/instance-class-and-static-methods-demystified/).\n",
    "\n",
    "The code is in `./05_src/stock_prices/data_manager.py`."
   ]
  },
  {
   "cell_type": "markdown",
   "metadata": {},
   "source": [
    "Our original design was:\n",
    "\n",
    "![](./images/02_target_pipeline_manager.png)\n",
    "\n"
   ]
  },
  {
   "cell_type": "code",
   "execution_count": 21,
   "metadata": {},
   "outputs": [],
   "source": [
    "from stock_prices.data_manager import DataManager\n",
    "dm = DataManager()"
   ]
  },
  {
   "cell_type": "markdown",
   "metadata": {},
   "source": [
    "Download all prices."
   ]
  },
  {
   "cell_type": "code",
   "execution_count": 22,
   "metadata": {},
   "outputs": [
    {
     "name": "stderr",
     "output_type": "stream",
     "text": [
      "2025-06-03 19:56:51,929, data_manager.py, 53, INFO, Processing sample of tickers\n",
      "2025-06-03 19:56:51,931, data_manager.py, 64, INFO, Getting file list from ../../05_src/data/prices_csv/\n"
     ]
    },
    {
     "name": "stderr",
     "output_type": "stream",
     "text": [
      "2025-06-03 19:56:52,086, data_manager.py, 66, INFO, Found 8048 files in ../../05_src/data/prices/\n",
      "2025-06-03 19:56:52,092, data_manager.py, 74, INFO, Selecting sample of files\n",
      "2025-06-03 19:56:52,093, data_manager.py, 80, INFO, Selected 30 files\n",
      "2025-06-03 19:56:52,096, data_manager.py, 90, INFO, Processing file ../../05_src/data/prices_csv\\stocks\\MXC.csv\n",
      "2025-06-03 19:56:52,101, data_manager.py, 118, INFO, Reading file: ../../05_src/data/prices_csv\\stocks\\MXC.csv\n",
      "2025-06-03 19:56:52,186, data_manager.py, 101, INFO, Saving data by year\n",
      "2025-06-03 19:56:53,063, data_manager.py, 90, INFO, Processing file ../../05_src/data/prices_csv\\stocks\\EIX.csv\n",
      "2025-06-03 19:56:53,065, data_manager.py, 118, INFO, Reading file: ../../05_src/data/prices_csv\\stocks\\EIX.csv\n",
      "2025-06-03 19:56:53,130, data_manager.py, 101, INFO, Saving data by year\n",
      "2025-06-03 19:56:54,533, data_manager.py, 90, INFO, Processing file ../../05_src/data/prices_csv\\stocks\\PLYA.csv\n",
      "2025-06-03 19:56:54,534, data_manager.py, 118, INFO, Reading file: ../../05_src/data/prices_csv\\stocks\\PLYA.csv\n",
      "2025-06-03 19:56:54,582, data_manager.py, 101, INFO, Saving data by year\n",
      "2025-06-03 19:56:54,761, data_manager.py, 90, INFO, Processing file ../../05_src/data/prices_csv\\etfs\\IBTJ.csv\n",
      "2025-06-03 19:56:54,763, data_manager.py, 118, INFO, Reading file: ../../05_src/data/prices_csv\\etfs\\IBTJ.csv\n",
      "2025-06-03 19:56:54,794, data_manager.py, 101, INFO, Saving data by year\n",
      "2025-06-03 19:56:54,822, data_manager.py, 90, INFO, Processing file ../../05_src/data/prices_csv\\stocks\\HSY.csv\n",
      "2025-06-03 19:56:54,823, data_manager.py, 118, INFO, Reading file: ../../05_src/data/prices_csv\\stocks\\HSY.csv\n",
      "2025-06-03 19:56:54,881, data_manager.py, 101, INFO, Saving data by year\n",
      "2025-06-03 19:56:55,959, data_manager.py, 90, INFO, Processing file ../../05_src/data/prices_csv\\etfs\\SPHB.csv\n",
      "2025-06-03 19:56:55,961, data_manager.py, 118, INFO, Reading file: ../../05_src/data/prices_csv\\etfs\\SPHB.csv\n",
      "2025-06-03 19:56:56,111, data_manager.py, 101, INFO, Saving data by year\n",
      "2025-06-03 19:56:56,415, data_manager.py, 90, INFO, Processing file ../../05_src/data/prices_csv\\stocks\\NTIC.csv\n",
      "2025-06-03 19:56:56,416, data_manager.py, 118, INFO, Reading file: ../../05_src/data/prices_csv\\stocks\\NTIC.csv\n",
      "2025-06-03 19:56:56,466, data_manager.py, 101, INFO, Saving data by year\n",
      "2025-06-03 19:56:57,232, data_manager.py, 90, INFO, Processing file ../../05_src/data/prices_csv\\etfs\\FCVT.csv\n",
      "2025-06-03 19:56:57,234, data_manager.py, 118, INFO, Reading file: ../../05_src/data/prices_csv\\etfs\\FCVT.csv\n",
      "2025-06-03 19:56:57,276, data_manager.py, 101, INFO, Saving data by year\n",
      "2025-06-03 19:56:57,445, data_manager.py, 90, INFO, Processing file ../../05_src/data/prices_csv\\stocks\\BK.csv\n",
      "2025-06-03 19:56:57,446, data_manager.py, 118, INFO, Reading file: ../../05_src/data/prices_csv\\stocks\\BK.csv\n",
      "2025-06-03 19:56:57,515, data_manager.py, 101, INFO, Saving data by year\n",
      "2025-06-03 19:56:58,929, data_manager.py, 90, INFO, Processing file ../../05_src/data/prices_csv\\stocks\\BNY.csv\n",
      "2025-06-03 19:56:58,931, data_manager.py, 118, INFO, Reading file: ../../05_src/data/prices_csv\\stocks\\BNY.csv\n",
      "2025-06-03 19:56:58,969, data_manager.py, 101, INFO, Saving data by year\n",
      "2025-06-03 19:56:59,598, data_manager.py, 90, INFO, Processing file ../../05_src/data/prices_csv\\stocks\\KNX.csv\n",
      "2025-06-03 19:56:59,600, data_manager.py, 118, INFO, Reading file: ../../05_src/data/prices_csv\\stocks\\KNX.csv\n",
      "2025-06-03 19:56:59,681, data_manager.py, 101, INFO, Saving data by year\n",
      "2025-06-03 19:57:00,472, data_manager.py, 90, INFO, Processing file ../../05_src/data/prices_csv\\stocks\\DHC.csv\n",
      "2025-06-03 19:57:00,474, data_manager.py, 118, INFO, Reading file: ../../05_src/data/prices_csv\\stocks\\DHC.csv\n",
      "2025-06-03 19:57:00,564, data_manager.py, 101, INFO, Saving data by year\n",
      "2025-06-03 19:57:01,093, data_manager.py, 90, INFO, Processing file ../../05_src/data/prices_csv\\etfs\\FID.csv\n",
      "2025-06-03 19:57:01,094, data_manager.py, 118, INFO, Reading file: ../../05_src/data/prices_csv\\etfs\\FID.csv\n",
      "2025-06-03 19:57:01,137, data_manager.py, 101, INFO, Saving data by year\n",
      "2025-06-03 19:57:01,378, data_manager.py, 90, INFO, Processing file ../../05_src/data/prices_csv\\stocks\\HBB.csv\n",
      "2025-06-03 19:57:01,379, data_manager.py, 118, INFO, Reading file: ../../05_src/data/prices_csv\\stocks\\HBB.csv\n",
      "2025-06-03 19:57:01,417, data_manager.py, 101, INFO, Saving data by year\n",
      "2025-06-03 19:57:01,533, data_manager.py, 90, INFO, Processing file ../../05_src/data/prices_csv\\stocks\\SSBI.csv\n",
      "2025-06-03 19:57:01,534, data_manager.py, 118, INFO, Reading file: ../../05_src/data/prices_csv\\stocks\\SSBI.csv\n",
      "2025-06-03 19:57:01,601, data_manager.py, 101, INFO, Saving data by year\n",
      "2025-06-03 19:57:02,077, data_manager.py, 90, INFO, Processing file ../../05_src/data/prices_csv\\stocks\\PCF.csv\n",
      "2025-06-03 19:57:02,079, data_manager.py, 118, INFO, Reading file: ../../05_src/data/prices_csv\\stocks\\PCF.csv\n",
      "2025-06-03 19:57:02,151, data_manager.py, 101, INFO, Saving data by year\n",
      "2025-06-03 19:57:03,643, data_manager.py, 90, INFO, Processing file ../../05_src/data/prices_csv\\stocks\\TOT.csv\n",
      "2025-06-03 19:57:03,644, data_manager.py, 118, INFO, Reading file: ../../05_src/data/prices_csv\\stocks\\TOT.csv\n",
      "2025-06-03 19:57:03,708, data_manager.py, 101, INFO, Saving data by year\n",
      "2025-06-03 19:57:04,552, data_manager.py, 90, INFO, Processing file ../../05_src/data/prices_csv\\stocks\\CONE.csv\n",
      "2025-06-03 19:57:04,553, data_manager.py, 118, INFO, Reading file: ../../05_src/data/prices_csv\\stocks\\CONE.csv\n",
      "2025-06-03 19:57:04,600, data_manager.py, 101, INFO, Saving data by year\n",
      "2025-06-03 19:57:04,829, data_manager.py, 90, INFO, Processing file ../../05_src/data/prices_csv\\stocks\\RUTH.csv\n",
      "2025-06-03 19:57:04,831, data_manager.py, 118, INFO, Reading file: ../../05_src/data/prices_csv\\stocks\\RUTH.csv\n",
      "2025-06-03 19:57:04,875, data_manager.py, 101, INFO, Saving data by year\n",
      "2025-06-03 19:57:05,315, data_manager.py, 90, INFO, Processing file ../../05_src/data/prices_csv\\stocks\\EPRT.csv\n",
      "2025-06-03 19:57:05,316, data_manager.py, 118, INFO, Reading file: ../../05_src/data/prices_csv\\stocks\\EPRT.csv\n",
      "2025-06-03 19:57:05,349, data_manager.py, 101, INFO, Saving data by year\n",
      "2025-06-03 19:57:05,443, data_manager.py, 90, INFO, Processing file ../../05_src/data/prices_csv\\stocks\\ARCC.csv\n",
      "2025-06-03 19:57:05,445, data_manager.py, 118, INFO, Reading file: ../../05_src/data/prices_csv\\stocks\\ARCC.csv\n",
      "2025-06-03 19:57:05,515, data_manager.py, 101, INFO, Saving data by year\n",
      "2025-06-03 19:57:06,281, data_manager.py, 90, INFO, Processing file ../../05_src/data/prices_csv\\stocks\\SDRL.csv\n",
      "2025-06-03 19:57:06,282, data_manager.py, 118, INFO, Reading file: ../../05_src/data/prices_csv\\stocks\\SDRL.csv\n",
      "2025-06-03 19:57:06,327, data_manager.py, 101, INFO, Saving data by year\n",
      "2025-06-03 19:57:06,763, data_manager.py, 90, INFO, Processing file ../../05_src/data/prices_csv\\stocks\\GOLD.csv\n",
      "2025-06-03 19:57:06,764, data_manager.py, 118, INFO, Reading file: ../../05_src/data/prices_csv\\stocks\\GOLD.csv\n",
      "2025-06-03 19:57:06,812, data_manager.py, 101, INFO, Saving data by year\n",
      "2025-06-03 19:57:07,803, data_manager.py, 90, INFO, Processing file ../../05_src/data/prices_csv\\stocks\\PRGX.csv\n",
      "2025-06-03 19:57:07,804, data_manager.py, 118, INFO, Reading file: ../../05_src/data/prices_csv\\stocks\\PRGX.csv\n",
      "2025-06-03 19:57:07,858, data_manager.py, 101, INFO, Saving data by year\n",
      "2025-06-03 19:57:08,874, data_manager.py, 90, INFO, Processing file ../../05_src/data/prices_csv\\stocks\\SA.csv\n",
      "2025-06-03 19:57:08,877, data_manager.py, 118, INFO, Reading file: ../../05_src/data/prices_csv\\stocks\\SA.csv\n",
      "2025-06-03 19:57:09,018, data_manager.py, 101, INFO, Saving data by year\n",
      "2025-06-03 19:57:09,464, data_manager.py, 90, INFO, Processing file ../../05_src/data/prices_csv\\stocks\\KINS.csv\n",
      "2025-06-03 19:57:09,465, data_manager.py, 118, INFO, Reading file: ../../05_src/data/prices_csv\\stocks\\KINS.csv\n",
      "2025-06-03 19:57:09,524, data_manager.py, 101, INFO, Saving data by year\n",
      "2025-06-03 19:57:10,145, data_manager.py, 90, INFO, Processing file ../../05_src/data/prices_csv\\stocks\\AVNW.csv\n",
      "2025-06-03 19:57:10,146, data_manager.py, 118, INFO, Reading file: ../../05_src/data/prices_csv\\stocks\\AVNW.csv\n",
      "2025-06-03 19:57:10,225, data_manager.py, 101, INFO, Saving data by year\n",
      "2025-06-03 19:57:11,353, data_manager.py, 90, INFO, Processing file ../../05_src/data/prices_csv\\stocks\\NFH.csv\n",
      "2025-06-03 19:57:11,353, data_manager.py, 118, INFO, Reading file: ../../05_src/data/prices_csv\\stocks\\NFH.csv\n",
      "2025-06-03 19:57:11,436, data_manager.py, 101, INFO, Saving data by year\n",
      "2025-06-03 19:57:11,499, data_manager.py, 90, INFO, Processing file ../../05_src/data/prices_csv\\stocks\\ALDX.csv\n",
      "2025-06-03 19:57:11,500, data_manager.py, 118, INFO, Reading file: ../../05_src/data/prices_csv\\stocks\\ALDX.csv\n",
      "2025-06-03 19:57:11,510, data_manager.py, 101, INFO, Saving data by year\n",
      "2025-06-03 19:57:11,711, data_manager.py, 90, INFO, Processing file ../../05_src/data/prices_csv\\etfs\\IVLU.csv\n",
      "2025-06-03 19:57:11,712, data_manager.py, 118, INFO, Reading file: ../../05_src/data/prices_csv\\etfs\\IVLU.csv\n",
      "2025-06-03 19:57:11,744, data_manager.py, 101, INFO, Saving data by year\n"
     ]
    }
   ],
   "source": [
    "dm.process_sample_files()"
   ]
  },
  {
   "cell_type": "markdown",
   "metadata": {},
   "source": [
    "Finally, add features to the data set and save to a *feature store*."
   ]
  },
  {
   "cell_type": "code",
   "execution_count": 23,
   "metadata": {},
   "outputs": [
    {
     "name": "stderr",
     "output_type": "stream",
     "text": [
      "2025-06-03 19:57:11,967, data_manager.py, 131, INFO, Creating features data.\n",
      "2025-06-03 19:57:11,969, data_manager.py, 141, INFO, Loading price data from ../../05_src/data/prices/\n",
      "2025-06-03 19:57:13,336, data_manager.py, 150, INFO, Creating features\n",
      "d:\\DSI\\production\\01_materials\\labs\\../../05_src\\stock_prices\\data_manager.py:153: UserWarning: `meta` is not specified, inferred from partial data. Please provide `meta` if the result is unexpected.\n",
      "  Before: .apply(func)\n",
      "  After:  .apply(func, meta={'x': 'f8', 'y': 'f8'}) for dataframe result\n",
      "  or:     .apply(func, meta=('x', 'f8'))            for series result\n",
      "  features = (price_dd.groupby('ticker', group_keys=False)\n",
      "2025-06-03 19:57:13,359, data_manager.py, 175, INFO, Saving features to ../../05_src/data/features/stock_features\n"
     ]
    }
   ],
   "source": [
    "dm.featurize()"
   ]
  }
 ],
 "metadata": {
  "kernelspec": {
   "display_name": "dsi_participant",
   "language": "python",
   "name": "python3"
  },
  "language_info": {
   "codemirror_mode": {
    "name": "ipython",
    "version": 3
   },
   "file_extension": ".py",
   "mimetype": "text/x-python",
   "name": "python",
   "nbconvert_exporter": "python",
   "pygments_lexer": "ipython3",
   "version": "3.9.15"
  }
 },
 "nbformat": 4,
 "nbformat_minor": 2
}
